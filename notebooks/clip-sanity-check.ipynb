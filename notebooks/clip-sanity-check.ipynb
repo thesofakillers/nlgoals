{
 "cells": [
  {
   "cell_type": "markdown",
   "id": "88dd1812-ce33-4a31-9604-b172b9d6004e",
   "metadata": {},
   "source": [
    "# CLIP-goals: A Sanity Check\n",
    "\n",
    "We are interested in determining whether goals described in language will have high similarity with the corresponding goal images and lower similarity with non-goal images. \n",
    "\n",
    "This notebook will first serve as a familiarization to the CALVIN dataset and later as an investigation into the sanity check described above"
   ]
  },
  {
   "cell_type": "markdown",
   "id": "905db40b-4a83-40bd-a36d-eed9d642a928",
   "metadata": {},
   "source": [
    "## Imports"
   ]
  },
  {
   "cell_type": "code",
   "execution_count": 1,
   "id": "6f5c382c-6bfc-4508-80d5-f9d415243711",
   "metadata": {
    "tags": []
   },
   "outputs": [],
   "source": [
    "import os\n",
    "import PIL\n",
    "\n",
    "import yaml\n",
    "import numpy as np\n",
    "import matplotlib.pyplot as plt"
   ]
  },
  {
   "cell_type": "code",
   "execution_count": 2,
   "id": "9e4df95e-c776-4941-ae66-7a81de8f4494",
   "metadata": {
    "tags": []
   },
   "outputs": [],
   "source": [
    "from yaml import load, dump\n",
    "\n",
    "try:\n",
    "    from yaml import CLoader as Loader, CDumper as Dumper\n",
    "except ImportError:\n",
    "    from yaml import Loader, Dumper"
   ]
  },
  {
   "cell_type": "markdown",
   "id": "2fc1b088-8a91-4812-a3ed-81da311835b0",
   "metadata": {},
   "source": [
    "## Familarizing with the dataset\n",
    "\n",
    "We first familiarize with the CALVIN dataset, which provides a debug split."
   ]
  },
  {
   "cell_type": "code",
   "execution_count": 3,
   "id": "5dc12533-5bc4-45be-80b8-fd853ca4674a",
   "metadata": {
    "tags": []
   },
   "outputs": [],
   "source": [
    "DATA_PATH = \"../data/calvin/calvin_debug_dataset/\"\n",
    "train_path = os.path.join(DATA_PATH, \"training\")\n",
    "val_path = os.path.join(DATA_PATH, \"validation\")"
   ]
  },
  {
   "cell_type": "markdown",
   "id": "0195dec3-d210-40d3-b037-8266a6af1ac8",
   "metadata": {
    "tags": []
   },
   "source": [
    "### Metadata\n",
    "\n",
    "There are some files providing metadata. Let's take a look at them:"
   ]
  },
  {
   "cell_type": "markdown",
   "id": "904c7fdc-b24c-4f61-a0de-4ed22c6387b9",
   "metadata": {},
   "source": [
    "#### ep_lens and ep_start_end_ids\n",
    "\n",
    "seems that count the total number of frames and the start and end ids"
   ]
  },
  {
   "cell_type": "code",
   "execution_count": 4,
   "id": "7e2d7c35-9bf8-4241-840a-10a6654e6ee2",
   "metadata": {
    "tags": []
   },
   "outputs": [],
   "source": [
    "ep_lens = np.load(os.path.join(train_path, \"ep_lens.npy\"))\n",
    "ep_start_end_ids = np.load(os.path.join(train_path, \"ep_start_end_ids.npy\"))"
   ]
  },
  {
   "cell_type": "code",
   "execution_count": 5,
   "id": "83077c7e-3950-4f21-92cd-1f3b3c7e91fe",
   "metadata": {
    "tags": []
   },
   "outputs": [
    {
     "name": "stdout",
     "output_type": "stream",
     "text": [
      "2771\n",
      "[[358482 361252]]\n"
     ]
    }
   ],
   "source": [
    "print(ep_lens)\n",
    "print(ep_start_end_ids)"
   ]
  },
  {
   "cell_type": "code",
   "execution_count": 6,
   "id": "6f3e73a6-053b-49a1-ba5d-4c977d6e965b",
   "metadata": {
    "tags": []
   },
   "outputs": [
    {
     "data": {
      "text/plain": [
       "2770"
      ]
     },
     "execution_count": 6,
     "metadata": {},
     "output_type": "execute_result"
    }
   ],
   "source": [
    "np.subtract.reduce(ep_start_end_ids.squeeze()[::-1])"
   ]
  },
  {
   "cell_type": "markdown",
   "id": "95764b3b-26c5-4c73-9511-3a0262800ba2",
   "metadata": {},
   "source": [
    "If I'm understanding this correctly, they only included one episode in the debug dataset, of 2770 frames (or is it 2771?). Normally there would be multiple episodes, so that the ep_lens and ep_start_end_ids files would be more useful, containing the length and start and end ids for each episode. \n",
    "\n",
    "Note that the authors use the word episode to refer to a frame. See [this issue comment](https://github.com/mees/calvin/issues/23#issuecomment-1202270412)."
   ]
  },
  {
   "cell_type": "markdown",
   "id": "82e8146d-78f7-44ad-9718-e6a383b1f7a7",
   "metadata": {},
   "source": [
    "#### scene_info"
   ]
  },
  {
   "cell_type": "code",
   "execution_count": 7,
   "id": "6db2260f-dec4-4df2-81f1-2634290adc2e",
   "metadata": {
    "tags": []
   },
   "outputs": [],
   "source": [
    "# this is an object array so we need to pass allow_pickle=True\n",
    "scene_info = np.load(os.path.join(train_path, \"scene_info.npy\"), allow_pickle=True)"
   ]
  },
  {
   "cell_type": "code",
   "execution_count": 8,
   "id": "3dc41765-5a4d-4c36-acbd-e00339c034ea",
   "metadata": {
    "tags": []
   },
   "outputs": [
    {
     "data": {
      "text/plain": [
       "array({'calvin_scene_D': [358482, 361252]}, dtype=object)"
      ]
     },
     "execution_count": 8,
     "metadata": {},
     "output_type": "execute_result"
    }
   ],
   "source": [
    "scene_info"
   ]
  },
  {
   "cell_type": "markdown",
   "id": "c7ff8955-f8db-40be-9f26-788e0ae3a29b",
   "metadata": {},
   "source": [
    "See [this issue](https://github.com/mees/calvin/issues/14) for an explanation of what is here. TLDR: tells you which of the 4 possible scenes (A, B, C, or D) a given range of frames come from."
   ]
  },
  {
   "cell_type": "markdown",
   "id": "1b8d3f04-70b3-4827-b328-97e349dd1f16",
   "metadata": {},
   "source": [
    "#### statistics.yaml"
   ]
  },
  {
   "cell_type": "code",
   "execution_count": 9,
   "id": "b81cc3fb-cdee-4de9-aeb0-76eba8ff1b48",
   "metadata": {
    "tags": []
   },
   "outputs": [],
   "source": [
    "with open(os.path.join(train_path, \"statistics.yaml\"), \"r\") as stream:\n",
    "    try:\n",
    "        statistics = yaml.safe_load(stream)\n",
    "    except yaml.YAMLError as exc:\n",
    "        print(exc)"
   ]
  },
  {
   "cell_type": "code",
   "execution_count": 10,
   "id": "1b5f776f-cabd-479c-a57e-fa2c765febf8",
   "metadata": {
    "collapsed": true,
    "jupyter": {
     "outputs_hidden": true
    },
    "tags": []
   },
   "outputs": [
    {
     "data": {
      "text/plain": [
       "{'robot_obs': [{'_target_': 'calvin_agent.utils.transforms.NormalizeVector',\n",
       "   'mean': [0.039233,\n",
       "    -0.118554,\n",
       "    0.507826,\n",
       "    1.079174,\n",
       "    -0.083069,\n",
       "    1.579753,\n",
       "    0.054622,\n",
       "    -0.736859,\n",
       "    1.017769,\n",
       "    1.792879,\n",
       "    -2.099604,\n",
       "    -0.993738,\n",
       "    1.790842,\n",
       "    0.586534,\n",
       "    0.095367],\n",
       "   'std': [0.150769,\n",
       "    0.1104,\n",
       "    0.06253,\n",
       "    2.883517,\n",
       "    0.126405,\n",
       "    0.377196,\n",
       "    0.030152,\n",
       "    0.334392,\n",
       "    0.172714,\n",
       "    0.240513,\n",
       "    0.3842,\n",
       "    0.198596,\n",
       "    0.158712,\n",
       "    0.346865,\n",
       "    0.995442]}],\n",
       " 'scene_obs': [{'_target_': 'calvin_agent.utils.transforms.NormalizeVector',\n",
       "   'mean': [0.150934,\n",
       "    0.119917,\n",
       "    0.000239,\n",
       "    0.042049,\n",
       "    0.487755,\n",
       "    0.47448,\n",
       "    0.057482,\n",
       "    -0.088074,\n",
       "    0.431237,\n",
       "    0.046034,\n",
       "    0.030599,\n",
       "    0.027333,\n",
       "    0.062103,\n",
       "    -0.092833,\n",
       "    0.430236,\n",
       "    -0.054962,\n",
       "    0.019381,\n",
       "    0.096546,\n",
       "    0.064944,\n",
       "    -0.093058,\n",
       "    0.428381,\n",
       "    0.024941,\n",
       "    0.002746,\n",
       "    -0.031589],\n",
       "   'std': [0.125757,\n",
       "    0.09654,\n",
       "    0.002148,\n",
       "    0.041916,\n",
       "    0.49985,\n",
       "    0.499348,\n",
       "    0.146225,\n",
       "    0.119266,\n",
       "    0.050408,\n",
       "    1.430807,\n",
       "    0.676023,\n",
       "    2.017468,\n",
       "    0.142979,\n",
       "    0.113236,\n",
       "    0.049651,\n",
       "    1.545888,\n",
       "    0.3906,\n",
       "    1.763569,\n",
       "    0.143077,\n",
       "    0.11546,\n",
       "    0.050363,\n",
       "    1.514873,\n",
       "    0.431664,\n",
       "    1.860245]}],\n",
       " 'act_min_bound': [-0.432188,\n",
       "  -0.545456,\n",
       "  0.293439,\n",
       "  -3.141593,\n",
       "  -0.811348,\n",
       "  -3.141573,\n",
       "  -1.0],\n",
       " 'act_max_bound': [0.42977,\n",
       "  0.139396,\n",
       "  0.796262,\n",
       "  3.141592,\n",
       "  0.638583,\n",
       "  3.141551,\n",
       "  1.0]}"
      ]
     },
     "execution_count": 10,
     "metadata": {},
     "output_type": "execute_result"
    }
   ],
   "source": [
    "statistics"
   ]
  },
  {
   "cell_type": "markdown",
   "id": "fa90b0a3-f7e7-409f-b160-2aaf7a67fe15",
   "metadata": {},
   "source": [
    "### Single image"
   ]
  },
  {
   "cell_type": "code",
   "execution_count": 11,
   "id": "03322f07-558a-4b0c-804d-3f8cc5b430ce",
   "metadata": {
    "tags": []
   },
   "outputs": [],
   "source": [
    "npz_file = np.load(os.path.join(train_path, \"episode_0358482.npz\"))"
   ]
  },
  {
   "cell_type": "code",
   "execution_count": 12,
   "id": "c18d99a5-3c57-4a8f-9380-3acefe423aa1",
   "metadata": {
    "tags": []
   },
   "outputs": [
    {
     "data": {
      "text/plain": [
       "['actions',\n",
       " 'rel_actions',\n",
       " 'robot_obs',\n",
       " 'scene_obs',\n",
       " 'rgb_static',\n",
       " 'rgb_gripper',\n",
       " 'rgb_tactile',\n",
       " 'depth_static',\n",
       " 'depth_gripper',\n",
       " 'depth_tactile']"
      ]
     },
     "execution_count": 12,
     "metadata": {},
     "output_type": "execute_result"
    }
   ],
   "source": [
    "[filename for filename in npz_file.files]"
   ]
  },
  {
   "cell_type": "code",
   "execution_count": 13,
   "id": "63613bb2-6da1-4aac-bb39-a71c075be1a5",
   "metadata": {
    "tags": []
   },
   "outputs": [],
   "source": [
    "with npz_file as f:\n",
    "    rgb_static = f[\"rgb_static\"]"
   ]
  },
  {
   "cell_type": "code",
   "execution_count": 15,
   "id": "96e12d13-9f07-4b82-aef0-e34f601aa5fe",
   "metadata": {
    "tags": []
   },
   "outputs": [
    {
     "data": {
      "image/png": "[encoded data removed]",
      "text/plain": [
       "<PIL.Image.Image image mode=RGB size=200x200>"
      ]
     },
     "execution_count": 15,
     "metadata": {},
     "output_type": "execute_result"
    }
   ],
   "source": [
    "PIL.Image.fromarray(rgb_static)"
   ]
  },
  {
   "cell_type": "markdown",
   "id": "e4f36103-d84f-4de7-91e9-93268a85e61b",
   "metadata": {},
   "source": [
    "### Language Annoations"
   ]
  },
  {
   "cell_type": "code",
   "execution_count": 18,
   "id": "eb901568-88d0-4b02-8189-462cf1fb2081",
   "metadata": {
    "tags": []
   },
   "outputs": [],
   "source": [
    "# this is an object array so we need to pass allow_pickle=True\n",
    "\n",
    "lang_annotations = np.load(\n",
    "    os.path.join(train_path, \"lang_annotations\", \"auto_lang_ann.npy\"), allow_pickle=True\n",
    ")"
   ]
  },
  {
   "cell_type": "code",
   "execution_count": null,
   "id": "e386e7da-fce4-4ebd-b631-2e59a9cd1a88",
   "metadata": {},
   "outputs": [],
   "source": []
  }
 ],
 "metadata": {
  "kernelspec": {
   "display_name": "thesis",
   "language": "python",
   "name": "thesis"
  },
  "language_info": {
   "codemirror_mode": {
    "name": "ipython",
    "version": 3
   },
   "file_extension": ".py",
   "mimetype": "text/x-python",
   "name": "python",
   "nbconvert_exporter": "python",
   "pygments_lexer": "ipython3",
   "version": "3.8.16"
  }
 },
 "nbformat": 4,
 "nbformat_minor": 5
}
