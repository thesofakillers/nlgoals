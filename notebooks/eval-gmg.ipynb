{
 "cells": [
  {
   "cell_type": "markdown",
   "id": "60290123-9b0b-404a-bc6c-ad2abb94d6cf",
   "metadata": {},
   "source": [
    "# Goal Misgeneralization Evaluation\n",
    "\n",
    "In the following, we evaluate a model on its ability (by measuring success-rate (SR)) to pursue two goals:\n",
    "\n",
    "1. The \"true goal\" of going to the red ball\n",
    "2. The \"confounding goal\" of going to the bottom right\n",
    "\n",
    "The model is trained on a \"causally confused\" environment, where the red ball is always situated at the bottom right.\n",
    "\n",
    "The model is then evaluated in both the causally confused environment and a \"normal\" environment, where the ball is placed randomly.\n",
    "\n",
    "Optionally, for each environment, we evaluate the model under two modes of operation: conditioned on visual goals vs conditioned on textual goals."
   ]
  },
  {
   "cell_type": "code",
   "execution_count": 1,
   "id": "ea649f6a-0c4b-43c7-862e-a28a109aa7ca",
   "metadata": {
    "tags": []
   },
   "outputs": [],
   "source": [
    "import os\n",
    "\n",
    "import matplotlib.pyplot as plt\n",
    "from matplotlib.patches import Patch\n",
    "import seaborn as sns\n",
    "import numpy as np\n",
    "import pandas as pd\n",
    "from pprint import pprint"
   ]
  },
  {
   "cell_type": "code",
   "execution_count": 2,
   "id": "3a39de2a",
   "metadata": {
    "tags": []
   },
   "outputs": [],
   "source": [
    "sns.set_style(\"ticks\")\n",
    "sns.set_context(\"paper\")"
   ]
  },
  {
   "cell_type": "markdown",
   "id": "09b9b0e5-356a-4934-b2a4-c1bb5335dfe6",
   "metadata": {},
   "source": [
    "## Functions"
   ]
  },
  {
   "cell_type": "markdown",
   "id": "d53a25df-4643-4923-9505-9e093415ac2d",
   "metadata": {},
   "source": [
    "### Multi-modal"
   ]
  },
  {
   "cell_type": "code",
   "execution_count": 3,
   "id": "ed212b90-4614-468a-93d6-3658017a30b4",
   "metadata": {
    "tags": []
   },
   "outputs": [],
   "source": [
    "def parse_multimodal(parent_dir) -> pd.core.frame.DataFrame:\n",
    "    results = {\n",
    "        \"cc\": {\n",
    "            \"conf_goal\": {\"visual\": None, \"textual\": None},\n",
    "            \"true_goal\": {\"visual\": None, \"textual\": None},\n",
    "        },\n",
    "        \"normal\": {\n",
    "            \"conf_goal\": {\"visual\": None, \"textual\": None},\n",
    "            \"true_goal\": {\"visual\": None, \"textual\": None},\n",
    "        },\n",
    "    }\n",
    "\n",
    "    for mode in [\"textual\", \"visual\"]:\n",
    "        mode_dir = os.path.join(data_dir, mode)\n",
    "        for env_type in [\"cc\", \"normal\"]:\n",
    "            env_dir = os.path.join(mode_dir, env_type)\n",
    "            for goal in [\"conf_goal\", \"true_goal\"]:\n",
    "                goal_dir = os.path.join(env_dir, goal)\n",
    "                outcomes_path = os.path.join(goal_dir, \"results.npy\")\n",
    "                outcomes = np.load(outcomes_path)\n",
    "                sr = outcomes.mean()\n",
    "                results[env_type][goal][mode] = sr\n",
    "\n",
    "    results_df = pd.DataFrame(\n",
    "        index=[\"Causally Confused Env\", \"Normal Env\"],\n",
    "        columns=pd.MultiIndex.from_tuples(\n",
    "            [\n",
    "                (\"Confounding Goal\", \"Visual\"),\n",
    "                (\"Confounding Goal\", \"Textual\"),\n",
    "                (\"True Goal\", \"Visual\"),\n",
    "                (\"True Goal\", \"Textual\"),\n",
    "            ]\n",
    "        ),\n",
    "        data=[\n",
    "            [\n",
    "                results[\"cc\"][\"conf_goal\"][\"visual\"],\n",
    "                results[\"cc\"][\"conf_goal\"][\"textual\"],\n",
    "                results[\"cc\"][\"true_goal\"][\"visual\"],\n",
    "                results[\"cc\"][\"true_goal\"][\"textual\"],\n",
    "            ],\n",
    "            [\n",
    "                results[\"normal\"][\"conf_goal\"][\"visual\"],\n",
    "                results[\"normal\"][\"conf_goal\"][\"textual\"],\n",
    "                results[\"normal\"][\"true_goal\"][\"visual\"],\n",
    "                results[\"normal\"][\"true_goal\"][\"textual\"],\n",
    "            ],\n",
    "        ],\n",
    "    )\n",
    "\n",
    "    return results_df\n",
    "\n",
    "\n",
    "def plot_multimodal(multimodal_df):\n",
    "    f, (ax1, ax2) = plt.subplots(1, 2, figsize=(6, 4), sharey=True)\n",
    "\n",
    "    # confounding goal, confounding goal, true goal, true goal\n",
    "    colors = [\"#C52233\", \"#C52233\", \"#110304\", \"#110304\"]\n",
    "    # visual, textual, visual, textual\n",
    "    hatches = [\"/\", \"\\\\\", \"/\", \"\\\\\"]\n",
    "\n",
    "    x_locations = [0.25, 0.75, 1.375, 1.875]\n",
    "\n",
    "    ax1.bar(\n",
    "        x=x_locations,\n",
    "        height=multimodal_df.loc[\"Causally Confused Env\"],\n",
    "        width=0.5,\n",
    "        color=colors,\n",
    "        hatch=hatches,\n",
    "    )\n",
    "    ax1.set_xlim([-0.15, 2.35])\n",
    "    ax1.set_xticks([1.0625])\n",
    "    ax1.set_xticklabels([\"Causally Confused Env\"])\n",
    "    ax1.set_ylabel(\"Success Rate\")\n",
    "    ax1.spines[[\"right\"]].set_visible(False)\n",
    "\n",
    "    ax2.bar(\n",
    "        x=x_locations,\n",
    "        height=multimodal_df.loc[\"Normal Env\"],\n",
    "        width=0.5,\n",
    "        color=colors,\n",
    "        hatch=hatches,\n",
    "    )\n",
    "    ax2.set_xlim([-0.235, 2.275])\n",
    "    ax2.set_xticks([1.0625])\n",
    "    ax2.set_xticklabels([\"Normal Env\"])\n",
    "    ax2.tick_params(axis=\"y\", which=\"both\", left=False, right=False, labelleft=False)\n",
    "    ax2.spines[[\"left\"]].set_visible(False)\n",
    "\n",
    "    legend_elements = [\n",
    "        Patch(facecolor=\"#C52233\", label=\"Confounding Goal\"),\n",
    "        Patch(facecolor=\"#110304\", label=\"True Goal\"),\n",
    "        Patch(facecolor=\"white\", hatch=\"///\", label=\"Visual\", edgecolor=\"black\"),\n",
    "        Patch(facecolor=\"white\", hatch=\"\\\\\\\\\\\\\", label=\"Textual\", edgecolor=\"black\"),\n",
    "    ]\n",
    "\n",
    "    ax2.legend(handles=legend_elements)\n",
    "\n",
    "    f.subplots_adjust(wspace=0, hspace=0)\n",
    "\n",
    "    plt.show()"
   ]
  },
  {
   "cell_type": "markdown",
   "id": "eb3f1f6b-8cc7-40b3-a550-68d194a31897",
   "metadata": {},
   "source": [
    "### Uni-modal"
   ]
  },
  {
   "cell_type": "code",
   "execution_count": 4,
   "id": "873fca72-2781-4b54-b75e-21a825b657b6",
   "metadata": {
    "tags": []
   },
   "outputs": [],
   "source": [
    "def parse_unimodal(parent_dir) -> pd.core.frame.DataFrame:\n",
    "    results = {\n",
    "        \"cc\": {\"conf_goal\": None, \"true_goal\": None},\n",
    "        \"normal\": {\"conf_goal\": None, \"true_goal\": None},\n",
    "    }\n",
    "\n",
    "    for env_type in [\"cc\", \"normal\"]:\n",
    "        env_dir = os.path.join(data_dir, env_type)\n",
    "        for goal in [\"conf_goal\", \"true_goal\"]:\n",
    "            goal_dir = os.path.join(env_dir, goal)\n",
    "            outcomes_path = os.path.join(goal_dir, \"results.npy\")\n",
    "            outcomes = np.load(outcomes_path)\n",
    "            sr = outcomes.mean()\n",
    "            results[env_type][goal] = sr\n",
    "\n",
    "    results_df = pd.DataFrame(\n",
    "        index=[\"Causally Confused Env\", \"Normal Env\"],\n",
    "        columns=[\"Confounding Goal\", \"True Goal\"],\n",
    "        data=[\n",
    "            [results[\"cc\"][\"conf_goal\"], results[\"cc\"][\"true_goal\"]],\n",
    "            [results[\"normal\"][\"conf_goal\"], results[\"normal\"][\"true_goal\"]],\n",
    "        ],\n",
    "    )\n",
    "\n",
    "    return results_df\n",
    "\n",
    "\n",
    "def plot_unimodal(unimodal_df):\n",
    "    f, (ax1, ax2) = plt.subplots(1, 2, figsize=(6, 4), sharey=True)\n",
    "\n",
    "    # confounding goal, true goal\n",
    "    colors = [\"#C52233\", \"#110304\"]\n",
    "\n",
    "    x_locations = [0.25, 1.375]\n",
    "\n",
    "    width = 1\n",
    "\n",
    "    ax1.bar(\n",
    "        x=x_locations,\n",
    "        height=unimodal_df.loc[\"Causally Confused Env\"],\n",
    "        color=colors,\n",
    "        width=width,\n",
    "    )\n",
    "    ax1.set_xlim([-0.35, 2.15])\n",
    "    ax1.set_xticks([0.8125])\n",
    "    ax1.set_xticklabels([\"Causally Confused Env\"])\n",
    "    ax1.set_ylabel(\"Success Rate\")\n",
    "    ax1.spines[[\"right\"]].set_visible(False)\n",
    "\n",
    "    ax2.set_xlim([-0.525, 1.9975])\n",
    "    ax2.bar(\n",
    "        x=x_locations, height=unimodal_df.loc[\"Normal Env\"], color=colors, width=width\n",
    "    )\n",
    "    ax2.set_xticks([0.8125])\n",
    "    ax2.set_xticklabels([\"Normal Env\"])\n",
    "    ax2.tick_params(axis=\"y\", which=\"both\", left=False, right=False, labelleft=False)\n",
    "\n",
    "    ax2.spines[[\"left\"]].set_visible(False)\n",
    "\n",
    "    legend_elements = [\n",
    "        Patch(facecolor=\"#110304\", label=\"True Goal\"),\n",
    "        Patch(facecolor=\"#C52233\", label=\"Confounding Goal\"),\n",
    "    ]\n",
    "    ax2.legend(handles=legend_elements)\n",
    "\n",
    "    f.subplots_adjust(wspace=0, hspace=0)\n",
    "\n",
    "    plt.show()"
   ]
  },
  {
   "cell_type": "markdown",
   "id": "04ee93d5-fb81-480f-9a49-18b3ab583b86",
   "metadata": {},
   "source": [
    "## Parsing and Plotting"
   ]
  },
  {
   "cell_type": "markdown",
   "id": "c085873e",
   "metadata": {},
   "source": [
    "We will plot the results using a barplot. The y-axis will be the SR. \n",
    "We will then have two groups of bars on the x-axis, one for each environment\n",
    "setting (causally confused or normal). Within each group, we will have a bar for\n",
    "the success rate on the true goal and one for the success rate on the confounding goal.\n",
    "\n",
    "As mentioned we may optionally have an additional split, with one bar for the\n",
    "model operating with visual goals and one for the model operating with textual goals."
   ]
  },
  {
   "cell_type": "code",
   "execution_count": 5,
   "id": "161cc468-34e4-45d9-9696-c5f8887acfb0",
   "metadata": {
    "tags": []
   },
   "outputs": [],
   "source": [
    "# adjust this accordingly\n",
    "data_dir = \"../outputs/babyai/gcbc_cclipt/multi_task/GCBC-BabyAI-s1\""
   ]
  },
  {
   "cell_type": "code",
   "execution_count": 6,
   "id": "0fa18dfe-e6a3-4fbe-841e-586eaf674f7c",
   "metadata": {},
   "outputs": [],
   "source": [
    "# uncomment one of the following lines accordingly\n",
    "multi_modal = True\n",
    "# multi_modal = False"
   ]
  },
  {
   "cell_type": "code",
   "execution_count": 7,
   "id": "16ef88af-acef-4f81-a856-a059618ecfa4",
   "metadata": {
    "tags": []
   },
   "outputs": [
    {
     "data": {
      "text/html": [
       "<div>\n",
       "<style scoped>\n",
       "    .dataframe tbody tr th:only-of-type {\n",
       "        vertical-align: middle;\n",
       "    }\n",
       "\n",
       "    .dataframe tbody tr th {\n",
       "        vertical-align: top;\n",
       "    }\n",
       "\n",
       "    .dataframe thead tr th {\n",
       "        text-align: left;\n",
       "    }\n",
       "</style>\n",
       "<table border=\"1\" class=\"dataframe\">\n",
       "  <thead>\n",
       "    <tr>\n",
       "      <th></th>\n",
       "      <th colspan=\"2\" halign=\"left\">Confounding Goal</th>\n",
       "      <th colspan=\"2\" halign=\"left\">True Goal</th>\n",
       "    </tr>\n",
       "    <tr>\n",
       "      <th></th>\n",
       "      <th>Visual</th>\n",
       "      <th>Textual</th>\n",
       "      <th>Visual</th>\n",
       "      <th>Textual</th>\n",
       "    </tr>\n",
       "  </thead>\n",
       "  <tbody>\n",
       "    <tr>\n",
       "      <th>Causally Confused Env</th>\n",
       "      <td>0.880</td>\n",
       "      <td>0.877</td>\n",
       "      <td>0.880</td>\n",
       "      <td>0.877</td>\n",
       "    </tr>\n",
       "    <tr>\n",
       "      <th>Normal Env</th>\n",
       "      <td>0.126</td>\n",
       "      <td>0.123</td>\n",
       "      <td>0.524</td>\n",
       "      <td>0.539</td>\n",
       "    </tr>\n",
       "  </tbody>\n",
       "</table>\n",
       "</div>"
      ],
      "text/plain": [
       "                      Confounding Goal         True Goal        \n",
       "                                Visual Textual    Visual Textual\n",
       "Causally Confused Env            0.880   0.877     0.880   0.877\n",
       "Normal Env                       0.126   0.123     0.524   0.539"
      ]
     },
     "metadata": {},
     "output_type": "display_data"
    },
    {
     "data": {
      "image/png": "[encoded data removed]",
      "text/plain": [
       "<Figure size 600x400 with 2 Axes>"
      ]
     },
     "metadata": {},
     "output_type": "display_data"
    }
   ],
   "source": [
    "if multi_modal:\n",
    "    results_df = parse_multimodal(data_dir)\n",
    "    display(results_df)\n",
    "    plot_multimodal(results_df)\n",
    "else:\n",
    "    results_df = parse_unimodal(data_dir)\n",
    "    display(results_df)\n",
    "    plot_unimodal(results_df)"
   ]
  }
 ],
 "metadata": {
  "kernelspec": {
   "display_name": "thesis",
   "language": "python",
   "name": "thesis"
  },
  "language_info": {
   "codemirror_mode": {
    "name": "ipython",
    "version": 3
   },
   "file_extension": ".py",
   "mimetype": "text/x-python",
   "name": "python",
   "nbconvert_exporter": "python",
   "pygments_lexer": "ipython3",
   "version": "3.8.16"
  }
 },
 "nbformat": 4,
 "nbformat_minor": 5
}
